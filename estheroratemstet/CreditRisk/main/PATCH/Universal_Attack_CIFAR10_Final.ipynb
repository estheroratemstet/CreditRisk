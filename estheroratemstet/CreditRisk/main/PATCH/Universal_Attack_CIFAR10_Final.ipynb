{
  "cells": [
    {
      "cell_type": "markdown",
      "metadata": {
        "id": "view-in-github",
        "colab_type": "text"
      },
      "source": [
        "<a href=\"https://colab.research.google.com/github/estheroratemstet/CreditRisk/blob/main/estheroratemstet/CreditRisk/main/PATCH/Universal_Attack_CIFAR10_Final.ipynb\" target=\"_parent\"><img src=\"https://colab.research.google.com/assets/colab-badge.svg\" alt=\"Open In Colab\"/></a>"
      ]
    },
    {
      "cell_type": "markdown",
      "metadata": {
        "id": "O2loVVtTH4Mf"
      },
      "source": [
        "# Universal Attack CIFAR10\n",
        "\n",
        "In this notebook we are implementing targeted and untargeted attack of the Stochastic Gradient Descent (SGD) algorithm for generating Universal Adversarial Perturbations (UAPs).\n",
        "\n",
        "UAP is a kind of adversarial attacks on deep neural networks where a single UAP can fool a model on an entire set of affected inputs.<br>\n",
        "SGD has been shown to create more effective UAPs than the originally iterative-DeepFool.\n",
        "\n",
        "\n",
        "We are going to attack images from CIFAR10 dataset.<br>\n",
        "Model Accuracy is: 87%<br>\n",
        "We are going to do a targeted and untargeted attack:<br>\n",
        "After the **untargeted** attack we see that:<br>\n",
        "The accuracy after the attack is 25%<br>\n",
        "After the **targeted** attack we see that:<br>\n",
        "The accuracy after the attack is 33%<br>\n",
        "\n",
        "\n",
        "\n",
        "This notebook is mainly based on https://github.com/kenny-co/sgd-uap-torch/blob/main/notebooks/cifar10_attack.ipynb\n"
      ]
    },
    {
      "cell_type": "markdown",
      "metadata": {
        "id": "ufFciOr8IAHs"
      },
      "source": [
        "##Prequisites"
      ]
    },
    {
      "cell_type": "code",
      "execution_count": 2,
      "metadata": {
        "id": "b10bsMkPH5GE"
      },
      "outputs": [],
      "source": [
        "import os\n",
        "import sys\n",
        "import math\n",
        "import numpy as np\n",
        "import multiprocessing\n",
        "import matplotlib.pyplot as plt\n",
        "%matplotlib inline\n",
        "\n",
        "import torch\n",
        "import torch.nn as nn\n",
        "import torch.optim as optim\n",
        "from torch.utils.data import DataLoader, TensorDataset\n",
        "\n",
        "import torchvision.utils\n",
        "from torchvision import models\n",
        "import torchvision.datasets as dsets\n",
        "import torchvision.transforms as transforms"
      ]
    },
    {
      "cell_type": "code",
      "execution_count": 5,
      "metadata": {
        "colab": {
          "base_uri": "https://localhost:8080/"
        },
        "id": "lo6PeWEJIDlL",
        "outputId": "4714cee7-edf7-47af-f4ae-2ca0bc4b040f"
      },
      "outputs": [
        {
          "output_type": "stream",
          "name": "stdout",
          "text": [
            "Mounted at /content/drive\n"
          ]
        }
      ],
      "source": [
        "from google.colab import drive\n",
        "drive.mount('/content/drive')"
      ]
    },
    {
      "cell_type": "markdown",
      "metadata": {
        "id": "L0Ig-gDRIORk"
      },
      "source": [
        "## CIFAR10 Model"
      ]
    },
    {
      "cell_type": "code",
      "execution_count": 6,
      "metadata": {
        "id": "Ym3ImucQIVSg"
      },
      "outputs": [],
      "source": [
        "class Target(nn.Module):\n",
        "    def __init__(self):\n",
        "        super(Target, self).__init__()\n",
        "        \n",
        "        self.conv_layer = nn.Sequential(\n",
        "            nn.Conv2d(3,96,3), # 96*30*30\n",
        "            nn.GroupNorm(32, 96),\n",
        "            nn.ELU(),\n",
        "            \n",
        "            nn.Dropout2d(0.2),\n",
        "            \n",
        "            nn.Conv2d(96, 96, 3), # 96*28*28\n",
        "            nn.GroupNorm(32, 96),\n",
        "            nn.ELU(),\n",
        "            \n",
        "            nn.Conv2d(96, 96, 3), # 96*26*26\n",
        "            nn.GroupNorm(32, 96),\n",
        "            nn.ELU(),\n",
        "            \n",
        "            nn.Dropout2d(0.5),\n",
        "            \n",
        "            nn.Conv2d(96, 192, 3), # 192*24*24\n",
        "            nn.GroupNorm(32, 192),\n",
        "            nn.ELU(),\n",
        "            \n",
        "            nn.Conv2d(192, 192, 3), # 192*22*22\n",
        "            nn.GroupNorm(32, 192),\n",
        "            nn.ELU(),\n",
        "           \n",
        "            nn.Dropout2d(0.5),\n",
        "            \n",
        "            nn.Conv2d(192, 256, 3), # 256*20*20\n",
        "            nn.GroupNorm(32, 256),\n",
        "            nn.ELU(),\n",
        "            \n",
        "            nn.Conv2d(256, 256, 1), # 256*20*20\n",
        "            nn.GroupNorm(32, 256),\n",
        "            nn.ELU(),\n",
        "            \n",
        "            nn.Conv2d(256, 10, 1), # 10*20*20\n",
        "            nn.AvgPool2d(20) # 10*1*1\n",
        "        )\n",
        "\n",
        "    def forward(self,x):\n",
        "        out = self.conv_layer(x)\n",
        "        out = out.view(-1,10)\n",
        "\n",
        "        return out"
      ]
    },
    {
      "cell_type": "markdown",
      "metadata": {
        "id": "8iBWA0oDIj9C"
      },
      "source": [
        "Function for: \n",
        "- Loading cifar dataset\n",
        "- Evaluating on dataset with or without UAP"
      ]
    },
    {
      "cell_type": "code",
      "execution_count": 4,
      "metadata": {
        "id": "32VSZYeRIjeE"
      },
      "outputs": [],
      "source": [
        "\n",
        "# dataloader for CIFAR-10\n",
        "def loader_cifar(dir_data, train = False, batch_size = 250):\n",
        "    transform_test = transforms.Compose([\n",
        "        transforms.ToTensor(),\n",
        "        #transforms.Normalize((0.4914, 0.4822, 0.4465), (0.2023, 0.1994, 0.2010)),\n",
        "    ])\n",
        "    if train:\n",
        "        trainset = torchvision.datasets.CIFAR10(root = dir_data, train = True, download = True, transform = transform_test)\n",
        "        dataloader = torch.utils.data.DataLoader(trainset, batch_size = batch_size, shuffle = True, num_workers = max(1, multiprocessing.cpu_count() - 1))\n",
        "    else:\n",
        "        testset = torchvision.datasets.CIFAR10(root = dir_data, train = False, download = True, transform = transform_test)\n",
        "        dataloader = torch.utils.data.DataLoader(testset, batch_size = batch_size, shuffle = True, num_workers = max(1, multiprocessing.cpu_count() - 1))\n",
        "    return dataloader\n",
        "\n",
        "\n",
        "# Evaluate model on data with or without UAP\n",
        "# Assumes data range is bounded by [0, 1]\n",
        "def evaluate(model, loader, uap = None, n = 5):\n",
        "    '''\n",
        "    OUTPUT\n",
        "    top         top n predicted labels (default n = 5)\n",
        "    top_probs   top n probabilities (default n = 5)\n",
        "    top1acc     array of true/false if true label is in top 1 prediction\n",
        "    top5acc     array of true/false if true label is in top 5 prediction\n",
        "    outputs     output labels\n",
        "    labels      true labels\n",
        "    '''\n",
        "    probs, labels = [], []\n",
        "    model.eval()\n",
        "    \n",
        "    if uap is not None:\n",
        "        _, (x_val, y_val) = next(enumerate(loader))\n",
        "        batch_size = len(x_val)\n",
        "        uap = uap.unsqueeze(0).repeat([batch_size, 1, 1, 1])\n",
        "    \n",
        "    with torch.set_grad_enabled(False):\n",
        "        for i, (x_val, y_val) in enumerate(loader):\n",
        "            \n",
        "            if uap is None:\n",
        "                out = torch.nn.functional.softmax(model(x_val), dim = 1)\n",
        "            else:\n",
        "                perturbed = torch.clamp((x_val + uap), 0, 1) # clamp to [0, 1]\n",
        "                out = torch.nn.functional.softmax(model(perturbed), dim = 1)\n",
        "                \n",
        "            probs.append(out.cpu().numpy())\n",
        "            labels.append(y_val)\n",
        "            \n",
        "    # Convert batches to single numpy arrays    \n",
        "    probs = np.stack([p for l in probs for p in l])\n",
        "    labels = np.array([t for l in labels for t in l])\n",
        "    # Extract top 5 predictions for each example\n",
        "    top = np.argpartition(-probs, n, axis = 1)[:,:n]\n",
        "    top_probs = probs[np.arange(probs.shape[0])[:, None], top].astype(np.float16)\n",
        "    top1acc = top[range(len(top)), np.argmax(top_probs, axis = 1)] == labels\n",
        "    top5acc = [labels[i] in row for i, row in enumerate(top)]\n",
        "    outputs = top[range(len(top)), np.argmax(top_probs, axis = 1)]\n",
        "        \n",
        "    return top, top_probs, top1acc, top5acc, outputs, labels"
      ]
    },
    {
      "cell_type": "markdown",
      "metadata": {
        "id": "W7Ok868tI6Ea"
      },
      "source": [
        "### Load data"
      ]
    },
    {
      "cell_type": "code",
      "execution_count": 7,
      "metadata": {
        "colab": {
          "base_uri": "https://localhost:8080/",
          "height": 101,
          "referenced_widgets": [
            "4201e72a1e6d4816a7f8c16e908fe145",
            "46672c5751b1459799d2900014e78d54",
            "ac96d99a10644f76a263ab6346644730",
            "148309826afc4e4ca2704dc42a3a0d2c",
            "3d32339774f547c48a008672b216efcd",
            "9fe81ad891594d138997413e6e68bca3",
            "9074388e49cd4be2a870eeccd5e07bf6",
            "9a0790bdb727444d8c4d147309374c97",
            "13ffd68aa30e4f0aab3cf56c1ff0a743",
            "547ae5293f78421ea1340798758be86b",
            "5c934c425c674d3fad5c811dbaeab41b"
          ]
        },
        "id": "AMCt_8WeI8aN",
        "outputId": "d00649d0-e32a-4db3-b49e-ab55b8aa293e"
      },
      "outputs": [
        {
          "output_type": "stream",
          "name": "stdout",
          "text": [
            "Downloading https://www.cs.toronto.edu/~kriz/cifar-10-python.tar.gz to /data/cifar10/cifar-10-python.tar.gz\n"
          ]
        },
        {
          "output_type": "display_data",
          "data": {
            "text/plain": [
              "  0%|          | 0/170498071 [00:00<?, ?it/s]"
            ],
            "application/vnd.jupyter.widget-view+json": {
              "version_major": 2,
              "version_minor": 0,
              "model_id": "4201e72a1e6d4816a7f8c16e908fe145"
            }
          },
          "metadata": {}
        },
        {
          "output_type": "stream",
          "name": "stdout",
          "text": [
            "Extracting /data/cifar10/cifar-10-python.tar.gz to /data/cifar10\n",
            "Files already downloaded and verified\n"
          ]
        }
      ],
      "source": [
        "# LOAD DATA\n",
        "\n",
        "dir_data = '/data/cifar10'\n",
        "dir_uap = '../uaps/cifar10/'\n",
        "\n",
        "trainloader = loader_cifar(dir_data = dir_data, train = True)\n",
        "testloader = loader_cifar(dir_data = dir_data, train = False)"
      ]
    },
    {
      "cell_type": "markdown",
      "metadata": {
        "id": "3BIukR5LKNkS"
      },
      "source": [
        "### Load model"
      ]
    },
    {
      "cell_type": "code",
      "execution_count": 8,
      "metadata": {
        "colab": {
          "base_uri": "https://localhost:8080/"
        },
        "id": "UhYv0_SDKJvP",
        "outputId": "62335178-0a4c-43f9-f12c-5346a61293c8"
      },
      "outputs": [
        {
          "output_type": "execute_result",
          "data": {
            "text/plain": [
              "<All keys matched successfully>"
            ]
          },
          "metadata": {},
          "execution_count": 8
        }
      ],
      "source": [
        "model = Target()\n",
        "model.load_state_dict(torch.load(\"/content/drive/MyDrive/models/target.pth\",map_location=torch.device('cpu')))"
      ]
    },
    {
      "cell_type": "markdown",
      "metadata": {
        "id": "PbfcFy4uMBcs"
      },
      "source": [
        "### Accuracy before attack 87%"
      ]
    },
    {
      "cell_type": "code",
      "execution_count": 9,
      "metadata": {
        "colab": {
          "base_uri": "https://localhost:8080/"
        },
        "id": "EiEqD3ybLrvh",
        "outputId": "ee25facc-070e-407f-f695-c97557aa1ad3"
      },
      "outputs": [
        {
          "output_type": "stream",
          "name": "stdout",
          "text": [
            "Outputs:  [0 8 7 ... 5 6 8]\n",
            "Labels:  [0 8 7 ... 5 6 8]\n",
            "Accuracy: 87.26 %\n"
          ]
        }
      ],
      "source": [
        "_, _, _, _, outputs, labels = evaluate(model, testloader)\n",
        "print(\"Outputs: \",outputs)\n",
        "print(\"Labels: \",labels)\n",
        "print('Accuracy: %.2f %%' % (100 * float(sum(outputs == labels) ) / len(labels)))"
      ]
    },
    {
      "cell_type": "markdown",
      "metadata": {
        "id": "hS1d4AhRNrPC"
      },
      "source": [
        "### Load & Predict A Random Image"
      ]
    },
    {
      "cell_type": "code",
      "execution_count": 10,
      "metadata": {
        "id": "d1jWKbotQf1L"
      },
      "outputs": [],
      "source": [
        "for images, labels in testloader:\n",
        "    images = images\n",
        "    labels=labels"
      ]
    },
    {
      "cell_type": "code",
      "execution_count": 86,
      "metadata": {
        "id": "C5bKwS2NNu4b"
      },
      "outputs": [],
      "source": [
        "# you can choose any number between 0-250 to predict an image\n",
        "ind=np.random.randint(250) "
      ]
    },
    {
      "cell_type": "code",
      "execution_count": 87,
      "metadata": {
        "colab": {
          "base_uri": "https://localhost:8080/",
          "height": 318
        },
        "id": "F-sxoLQAOBFA",
        "outputId": "fc514f05-1a66-4317-c527-75bb430b8e11"
      },
      "outputs": [
        {
          "output_type": "stream",
          "name": "stdout",
          "text": [
            "True Label:  tensor([6])\n",
            "Predict:  tensor([6])\n"
          ]
        },
        {
          "output_type": "execute_result",
          "data": {
            "text/plain": [
              "<matplotlib.image.AxesImage at 0x7f32c2d1c090>"
            ]
          },
          "metadata": {},
          "execution_count": 87
        },
        {
          "output_type": "display_data",
          "data": {
            "text/plain": [
              "<Figure size 432x288 with 1 Axes>"
            ],
            "image/png": "[encoded data removed]"
          },
          "metadata": {
            "needs_background": "light"
          }
        }
      ],
      "source": [
        "img=images[ind:ind+1] \n",
        "outputs = model(img)\n",
        "_, predicted = torch.max(outputs.data, 1)\n",
        "img=img.reshape(3,32,32)\n",
        "print(\"True Label: \" ,labels[ind:ind+1])\n",
        "print(\"Predict: \", predicted)\n",
        "plt.imshow(img.permute(1, 2, 0))"
      ]
    },
    {
      "cell_type": "markdown",
      "metadata": {
        "id": "Ohx73AEprfuQ"
      },
      "source": [
        "## UAP "
      ]
    },
    {
      "cell_type": "code",
      "execution_count": 13,
      "metadata": {
        "id": "JCKdGoeircQ3"
      },
      "outputs": [],
      "source": [
        "'''\n",
        "Basic version of untargeted stochastic gradient descent UAP adapted from:\n",
        "[AAAI 2020] Universal Adversarial Training\n",
        "- https://ojs.aaai.org//index.php/AAAI/article/view/6017\n",
        "\n",
        "Layer maximization attack from:\n",
        "Universal Adversarial Perturbations to Understand Robustness of Texture vs. Shape-biased Training\n",
        "- https://arxiv.org/abs/1911.10364\n",
        "'''\n",
        "def uap_sgd(model, loader, nb_epoch, eps, beta = 12, step_decay = 0.8, y_target = None, loss_fn = None, layer_name = None, uap_init = None):\n",
        "    '''\n",
        "    INPUT\n",
        "    model       model\n",
        "    loader      dataloader\n",
        "    nb_epoch    number of optimization epochs\n",
        "    eps         maximum perturbation value (L-infinity) norm\n",
        "    beta        clamping value\n",
        "    y_target    target class label for Targeted UAP variation\n",
        "    loss_fn     custom loss function (default is CrossEntropyLoss)\n",
        "    layer_name  target layer name for layer maximization attack\n",
        "    uap_init    custom perturbation to start from (default is random vector with pixel values {-eps, eps})\n",
        "    \n",
        "    OUTPUT\n",
        "    delta.data  adversarial perturbation\n",
        "    losses      losses per iteration\n",
        "    '''\n",
        "    \n",
        "\n",
        "# לכל תמונה מגדירים רעש ואז שולחים את התמונה והרעש לאופטימזציה\n",
        "\n",
        "    _, (x_val, y_val) = next(enumerate(loader))\n",
        "    batch_size = len(x_val)\n",
        "    if uap_init is None:\n",
        "        batch_delta = torch.zeros_like(x_val) # initialize as zero vector\n",
        "    else:\n",
        "        batch_delta = uap_init.unsqueeze(0).repeat([batch_size, 1, 1, 1])\n",
        "    delta = batch_delta[0]\n",
        "    losses = []\n",
        "    \n",
        "    # loss function\n",
        "    if layer_name is None:\n",
        "        if loss_fn is None: loss_fn = nn.CrossEntropyLoss(reduction = 'none') # define the loss function\n",
        "        beta = torch.FloatTensor([beta])\n",
        "        # This function will calculate the average of losses by minimizing to know what the loss is\n",
        "        def clamped_loss(output, target): \n",
        "            loss = torch.mean(torch.min(loss_fn(output, target), beta)) #מימיזציה על ההפסד  בטא= פרמטר של רגוליזציה  - עושה ממוצע של הטעויות\n",
        "            return loss\n",
        "       \n",
        "    # layer maximization attack\n",
        "    else:\n",
        "        def get_norm(self, forward_input, forward_output):\n",
        "            global main_value\n",
        "            main_value = torch.norm(forward_output, p = 'fro')\n",
        "        for name, layer in model.named_modules():\n",
        "            if name == layer_name:\n",
        "                handle = layer.register_forward_hook(get_norm)\n",
        "    # makes it so that autograd will begin to record operations on tensor.            \n",
        "    batch_delta.requires_grad_()\n",
        "\n",
        "    for epoch in range(nb_epoch):\n",
        "        print('epoch %i/%i' % (epoch + 1, nb_epoch))\n",
        "        \n",
        "        # perturbation step size with decay\n",
        "        eps_step = eps * step_decay # קצב הדעיכה \n",
        "        for i, (x_val, y_val) in enumerate(loader): \n",
        "          \n",
        "            batch_delta.data.zero_()\n",
        "            batch_delta.data = delta.unsqueeze(0).repeat([x_val.shape[0], 1, 1, 1]) \n",
        "\n",
        "            # for targeted UAP, switch output labels to y_target\n",
        "            if y_target is not None: y_val = torch.ones(size = y_val.shape, dtype = y_val.dtype) * y_target # מכוון ל y_target \n",
        "\n",
        "            perturbed = torch.clamp((x_val + batch_delta), 0, 1)\n",
        "            outputs = model(perturbed)\n",
        "            \n",
        "            # loss function value\n",
        "            if layer_name is None: loss = clamped_loss(outputs, y_val)\n",
        "            else: loss = main_value\n",
        "            \n",
        "            # אופטחמיזציה שונה\n",
        "            if y_target is not None: loss = -loss # minimize loss for targeted UAP\n",
        "            losses.append(torch.mean(loss))\n",
        "            loss.backward()\n",
        "            \n",
        "            # batch update\n",
        "            # מוסיף את הרעש של התמונה לרעש הכללי \n",
        "\n",
        "            grad_sign = batch_delta.grad.data.mean(dim = 0).sign() # ממוצע הרעש\n",
        "            delta = delta + grad_sign * eps_step\n",
        "            delta = torch.clamp(delta, -eps, eps)\n",
        "            batch_delta.grad.data.zero_()\n",
        "    \n",
        "    if layer_name is not None: handle.remove() # release hook\n",
        "    \n",
        "    return delta.data, losses"
      ]
    },
    {
      "cell_type": "markdown",
      "metadata": {
        "id": "gKl0vScqNBzz"
      },
      "source": [
        "### Untergeted UAP "
      ]
    },
    {
      "cell_type": "code",
      "execution_count": 190,
      "metadata": {
        "colab": {
          "base_uri": "https://localhost:8080/"
        },
        "id": "hwAHEzRPNEQh",
        "outputId": "6c82a697-c995-407f-cec9-13f692fe2acc"
      },
      "outputs": [
        {
          "output_type": "stream",
          "name": "stdout",
          "text": [
            "epoch 1/1\n"
          ]
        }
      ],
      "source": [
        "nb_epoch = 1\n",
        "eps = 10 / 255\n",
        "beta = 10\n",
        "uap, losses = uap_sgd(model, testloader, nb_epoch, eps, beta)"
      ]
    },
    {
      "cell_type": "markdown",
      "metadata": {
        "id": "GiJrWfvLRchf"
      },
      "source": [
        "Display Pertubation Image"
      ]
    },
    {
      "cell_type": "code",
      "execution_count": 191,
      "metadata": {
        "colab": {
          "base_uri": "https://localhost:8080/",
          "height": 283
        },
        "id": "rcj1rvOaNKlt",
        "outputId": "095ce4fa-9394-4e4d-e95f-98a0f5a69cb2"
      },
      "outputs": [
        {
          "output_type": "execute_result",
          "data": {
            "text/plain": [
              "<matplotlib.image.AxesImage at 0x7f32c0ead8d0>"
            ]
          },
          "metadata": {},
          "execution_count": 191
        },
        {
          "output_type": "display_data",
          "data": {
            "text/plain": [
              "<Figure size 432x288 with 1 Axes>"
            ],
            "image/png": "[encoded data removed]"
          },
          "metadata": {
            "needs_background": "light"
          }
        }
      ],
      "source": [
        "per1=np.transpose(((uap / eps) + 1) / 2, (1, 2, 0))\n",
        "plt.imshow(per1)"
      ]
    },
    {
      "cell_type": "markdown",
      "metadata": {
        "id": "8WF-giKtZhJ5"
      },
      "source": [
        "#### predict image attack\n",
        "We can see that the predict label of the image with the pertubation is not the same of the predict label of the image without the prtubation."
      ]
    },
    {
      "cell_type": "code",
      "execution_count": 193,
      "metadata": {
        "colab": {
          "base_uri": "https://localhost:8080/",
          "height": 597
        },
        "id": "WXRDEs9fYF00",
        "outputId": "7a049774-63c6-4d55-d4a7-96b6689eb5a7"
      },
      "outputs": [
        {
          "output_type": "stream",
          "name": "stdout",
          "text": [
            "label  tensor(6)\n",
            "pred  tensor([6])\n"
          ]
        },
        {
          "output_type": "display_data",
          "data": {
            "text/plain": [
              "<Figure size 432x288 with 1 Axes>"
            ],
            "image/png": "[encoded data removed]"
          },
          "metadata": {
            "needs_background": "light"
          }
        },
        {
          "output_type": "display_data",
          "data": {
            "text/plain": [
              "<Figure size 432x288 with 1 Axes>"
            ],
            "image/png": "[encoded data removed]"
          },
          "metadata": {
            "needs_background": "light"
          }
        },
        {
          "output_type": "stream",
          "name": "stdout",
          "text": [
            "predict after attack  tensor([4])\n"
          ]
        }
      ],
      "source": [
        "ind=0\n",
        "with torch.set_grad_enabled(False):\n",
        "  for i, (x_val, y_val) in enumerate(testloader):\n",
        "        x=x_val[ind].reshape(1,3,32,32)\n",
        "        y=y_val[ind]\n",
        "print(\"label \" , y)\n",
        "out=model(x)\n",
        "_, predicted = torch.max(out.data, 1)\n",
        "print(\"pred \",predicted)\n",
        "\n",
        "x2=x[0,:,:,:]\n",
        "plt.title('Image')\n",
        "plt.imshow(x2.permute(1,2,0))\n",
        "plt.show()\n",
        "\n",
        "\n",
        "perturbed = torch.clamp((x + uap), 0, 1) # clamp to [0, 1]\n",
        "x_p2=perturbed[0,:,:,:]\n",
        "plt.title('Image+Pertubation = Image Attack')\n",
        "plt.imshow(x_p2.permute(1,2,0))\n",
        "plt.show()\n",
        "out2 = torch.nn.functional.softmax(model(perturbed), dim = 1)\n",
        "_, predicted2 = torch.max(out2.data, 1)\n",
        "print(\"predict after attack \",predicted2)"
      ]
    },
    {
      "cell_type": "markdown",
      "metadata": {
        "id": "HxuBgGV4d9yO"
      },
      "source": [
        "#### Accuracy after untargeted attack 25%"
      ]
    },
    {
      "cell_type": "code",
      "execution_count": 194,
      "metadata": {
        "id": "Mp70umpLd89M",
        "colab": {
          "base_uri": "https://localhost:8080/"
        },
        "outputId": "7de26c59-f252-4a82-cf04-0bbc5ee80fbf"
      },
      "outputs": [
        {
          "output_type": "stream",
          "name": "stdout",
          "text": [
            "Accuracy: 0.2512\n"
          ]
        }
      ],
      "source": [
        "# evaluate\n",
        "_, _, _, _, outputs, labels = evaluate(model, testloader, uap = uap)\n",
        "print('Accuracy:', sum(outputs == labels) / len(labels))"
      ]
    },
    {
      "cell_type": "markdown",
      "metadata": {
        "id": "FXwpGGCJggod"
      },
      "source": [
        "#### Plotting"
      ]
    },
    {
      "cell_type": "code",
      "execution_count": 195,
      "metadata": {
        "id": "BuozoD_we3Fb",
        "colab": {
          "base_uri": "https://localhost:8080/",
          "height": 282
        },
        "outputId": "c69344de-d6fd-4ae4-d7a5-c4cff4656f07"
      },
      "outputs": [
        {
          "output_type": "execute_result",
          "data": {
            "text/plain": [
              "[<matplotlib.lines.Line2D at 0x7f32c1084450>]"
            ]
          },
          "metadata": {},
          "execution_count": 195
        },
        {
          "output_type": "display_data",
          "data": {
            "text/plain": [
              "<Figure size 432x288 with 1 Axes>"
            ],
            "image/png": "[encoded data removed]"
          },
          "metadata": {
            "needs_background": "light"
          }
        }
      ],
      "source": [
        "losses2=[]\n",
        "for i in range(len(losses)):\n",
        "  losses2.append(losses[i].item())\n",
        "plt.plot(losses2)"
      ]
    },
    {
      "cell_type": "code",
      "execution_count": 196,
      "metadata": {
        "id": "s7N0mNeCgqVw",
        "colab": {
          "base_uri": "https://localhost:8080/",
          "height": 350
        },
        "outputId": "403a971c-ec98-40ca-cf70-c92e78fd4880"
      },
      "outputs": [
        {
          "output_type": "execute_result",
          "data": {
            "text/plain": [
              "(array([1000., 1000., 1000., 1000., 1000., 1000., 1000., 1000., 1000.,\n",
              "        1000.]),\n",
              " array([0. , 0.9, 1.8, 2.7, 3.6, 4.5, 5.4, 6.3, 7.2, 8.1, 9. ]),\n",
              " <a list of 10 Patch objects>)"
            ]
          },
          "metadata": {},
          "execution_count": 196
        },
        {
          "output_type": "display_data",
          "data": {
            "text/plain": [
              "<Figure size 432x288 with 1 Axes>"
            ],
            "image/png": "[encoded data removed]"
          },
          "metadata": {
            "needs_background": "light"
          }
        }
      ],
      "source": [
        "# plot histogram\n",
        "plt.title('Clean test set distribution')\n",
        "plt.hist(labels)"
      ]
    },
    {
      "cell_type": "code",
      "execution_count": 197,
      "metadata": {
        "id": "hNSPUrRlgwfa",
        "colab": {
          "base_uri": "https://localhost:8080/",
          "height": 350
        },
        "outputId": "08f2376e-be92-4cd1-80ac-92728ed829b5"
      },
      "outputs": [
        {
          "output_type": "execute_result",
          "data": {
            "text/plain": [
              "(array([  92.,  512.,   92.,   21., 8309.,   58.,  181.,  203.,  145.,\n",
              "         387.]),\n",
              " array([0. , 0.9, 1.8, 2.7, 3.6, 4.5, 5.4, 6.3, 7.2, 8.1, 9. ]),\n",
              " <a list of 10 Patch objects>)"
            ]
          },
          "metadata": {},
          "execution_count": 197
        },
        {
          "output_type": "display_data",
          "data": {
            "text/plain": [
              "<Figure size 432x288 with 1 Axes>"
            ],
            "image/png": "[encoded data removed]"
          },
          "metadata": {
            "needs_background": "light"
          }
        }
      ],
      "source": [
        "# plot histogram\n",
        "plt.title('UAP test set distribution')\n",
        "plt.hist(outputs)"
      ]
    },
    {
      "cell_type": "markdown",
      "metadata": {
        "id": "zccNjADQukUu"
      },
      "source": [
        "### Targeted UAP \n",
        "y_target=7"
      ]
    },
    {
      "cell_type": "code",
      "execution_count": 17,
      "metadata": {
        "id": "vCCQCcHQumC5",
        "colab": {
          "base_uri": "https://localhost:8080/"
        },
        "outputId": "60cafaa3-63f5-4c49-c71e-24261e89ec58"
      },
      "outputs": [
        {
          "metadata": {
            "tags": null
          },
          "name": "stdout",
          "output_type": "stream",
          "text": [
            "epoch 1/10\n",
            "epoch 2/10\n",
            "epoch 3/10\n",
            "epoch 4/10\n",
            "epoch 5/10\n",
            "epoch 6/10\n",
            "epoch 7/10\n",
            "epoch 8/10\n",
            "epoch 9/10\n",
            "epoch 10/10\n"
          ]
        }
      ],
      "source": [
        "nb_epoch = 10\n",
        "eps = 10 / 255\n",
        "y_target = 7\n",
        "beta = 10\n",
        "uap, losses = uap_sgd(model, testloader, nb_epoch, eps, beta, y_target = y_target)"
      ]
    },
    {
      "cell_type": "markdown",
      "metadata": {
        "id": "8wAH-6zAuuEQ"
      },
      "source": [
        "Display Pertubation Image"
      ]
    },
    {
      "cell_type": "code",
      "execution_count": 101,
      "metadata": {
        "id": "JyjQ4oOiumLV",
        "colab": {
          "base_uri": "https://localhost:8080/",
          "height": 283
        },
        "outputId": "2dd63ea2-8ae6-4790-d431-30a899102dd0"
      },
      "outputs": [
        {
          "output_type": "execute_result",
          "data": {
            "text/plain": [
              "<matplotlib.image.AxesImage at 0x7f32c2a19dd0>"
            ]
          },
          "metadata": {},
          "execution_count": 101
        },
        {
          "output_type": "display_data",
          "data": {
            "text/plain": [
              "<Figure size 432x288 with 1 Axes>"
            ],
            "image/png": "[encoded data removed]"
          },
          "metadata": {
            "needs_background": "light"
          }
        }
      ],
      "source": [
        "# visualize UAP\n",
        "per7=np.transpose(((uap / eps) + 1) / 2, (1, 2, 0))\n",
        "plt.imshow(per7)"
      ]
    },
    {
      "cell_type": "markdown",
      "metadata": {
        "id": "T-nlgaBfu-Jw"
      },
      "source": [
        "#### predict image attack\n",
        "We can see that the predict label of the image with the pertubation is equal to the target label that we declared."
      ]
    },
    {
      "cell_type": "code",
      "source": [
        "ind=0\n",
        "with torch.set_grad_enabled(False):\n",
        "  for i, (x_val, y_val) in enumerate(testloader):\n",
        "        x=x_val[ind].reshape(1,3,32,32)\n",
        "        y=y_val[ind]\n",
        "print(\"label \" , y)\n",
        "out=model(x)\n",
        "_, predicted = torch.max(out.data, 1)\n",
        "print(\"pred \",predicted)\n",
        "\n",
        "x2=x[0,:,:,:]\n",
        "plt.title('Image')\n",
        "plt.imshow(x2.permute(1,2,0))\n",
        "plt.show()\n",
        "\n",
        "\n",
        "perturbed = torch.clamp((x + uap), 0, 1) # clamp to [0, 1]\n",
        "x_p2=perturbed[0,:,:,:]\n",
        "plt.title('Image+Pertubation = Image Attack')\n",
        "plt.imshow(x_p2.permute(1,2,0))\n",
        "plt.show()\n",
        "out2 = torch.nn.functional.softmax(model(perturbed), dim = 1)\n",
        "_, predicted2 = torch.max(out2.data, 1)\n",
        "print(\"predict after attack \",predicted2)"
      ],
      "metadata": {
        "colab": {
          "base_uri": "https://localhost:8080/",
          "height": 597
        },
        "id": "eZzIo6HrwbMt",
        "outputId": "d02eec52-27ce-486c-cb55-9079babf3961"
      },
      "execution_count": 189,
      "outputs": [
        {
          "output_type": "stream",
          "name": "stdout",
          "text": [
            "label  tensor(0)\n",
            "pred  tensor([0])\n"
          ]
        },
        {
          "output_type": "display_data",
          "data": {
            "text/plain": [
              "<Figure size 432x288 with 1 Axes>"
            ],
            "image/png": "[encoded data removed]"
          },
          "metadata": {
            "needs_background": "light"
          }
        },
        {
          "output_type": "display_data",
          "data": {
            "text/plain": [
              "<Figure size 432x288 with 1 Axes>"
            ],
            "image/png": "[encoded data removed]"
          },
          "metadata": {
            "needs_background": "light"
          }
        },
        {
          "output_type": "stream",
          "name": "stdout",
          "text": [
            "predict after attack  tensor([7])\n"
          ]
        }
      ]
    },
    {
      "cell_type": "markdown",
      "metadata": {
        "id": "luIjjpNceWnL"
      },
      "source": [
        "#### Accuracy after target attack 33% and Targeted success rate: 73%"
      ]
    },
    {
      "cell_type": "code",
      "execution_count": 29,
      "metadata": {
        "id": "uFHYHCaieU6R",
        "colab": {
          "base_uri": "https://localhost:8080/"
        },
        "outputId": "9a3077cc-8e89-4458-9172-91d1f30e70c9"
      },
      "outputs": [
        {
          "output_type": "stream",
          "name": "stdout",
          "text": [
            "Accuracy: 0.323\n",
            "Targeted success rate: 0.7301\n"
          ]
        }
      ],
      "source": [
        "# evaluate\n",
        "_, _, _, _, outputs, labels = evaluate(model, testloader, uap = uap)\n",
        "print('Accuracy:', sum(outputs == labels) / len(labels))\n",
        "print('Targeted success rate:', sum(outputs == y_target) / len(labels))"
      ]
    },
    {
      "cell_type": "markdown",
      "metadata": {
        "id": "fU7ZkJfAvQuQ"
      },
      "source": [
        "#### Plotting"
      ]
    },
    {
      "cell_type": "code",
      "execution_count": 33,
      "metadata": {
        "id": "entCT0IuvRAy",
        "colab": {
          "base_uri": "https://localhost:8080/",
          "height": 282
        },
        "outputId": "5c803a71-7dbb-408a-e545-6e98177ad04f"
      },
      "outputs": [
        {
          "output_type": "execute_result",
          "data": {
            "text/plain": [
              "[<matplotlib.lines.Line2D at 0x7f32cc1d9190>]"
            ]
          },
          "metadata": {},
          "execution_count": 33
        },
        {
          "output_type": "display_data",
          "data": {
            "text/plain": [
              "<Figure size 432x288 with 1 Axes>"
            ],
            "image/png": "[encoded data removed]"
          },
          "metadata": {
            "needs_background": "light"
          }
        }
      ],
      "source": [
        "# plot loss\n",
        "losses2=[]\n",
        "for i in range(len(losses)):\n",
        "  losses2.append(losses[i].item())\n",
        "plt.plot(losses2)"
      ]
    },
    {
      "cell_type": "code",
      "execution_count": 34,
      "metadata": {
        "id": "V7ipwJNvvRPL",
        "colab": {
          "base_uri": "https://localhost:8080/",
          "height": 350
        },
        "outputId": "d8cdf5ee-a10d-48d4-8dbf-2e3d977080cc"
      },
      "outputs": [
        {
          "output_type": "execute_result",
          "data": {
            "text/plain": [
              "(array([1000., 1000., 1000., 1000., 1000., 1000., 1000., 1000., 1000.,\n",
              "        1000.]),\n",
              " array([0. , 0.9, 1.8, 2.7, 3.6, 4.5, 5.4, 6.3, 7.2, 8.1, 9. ]),\n",
              " <a list of 10 Patch objects>)"
            ]
          },
          "metadata": {},
          "execution_count": 34
        },
        {
          "output_type": "display_data",
          "data": {
            "text/plain": [
              "<Figure size 432x288 with 1 Axes>"
            ],
            "image/png": "[encoded data removed]"
          },
          "metadata": {
            "needs_background": "light"
          }
        }
      ],
      "source": [
        "# plot histogram\n",
        "plt.title('Clean test set distribution')\n",
        "plt.hist(labels)"
      ]
    },
    {
      "cell_type": "code",
      "execution_count": 35,
      "metadata": {
        "id": "nnA2wXguvWlf",
        "colab": {
          "base_uri": "https://localhost:8080/",
          "height": 350
        },
        "outputId": "9ea8151f-4f05-494a-dfb2-4c9befd1eb45"
      },
      "outputs": [
        {
          "output_type": "execute_result",
          "data": {
            "text/plain": [
              "(array([ 182.,  502.,  314.,  105.,  218.,  159.,  412., 7301.,  191.,\n",
              "         616.]),\n",
              " array([0. , 0.9, 1.8, 2.7, 3.6, 4.5, 5.4, 6.3, 7.2, 8.1, 9. ]),\n",
              " <a list of 10 Patch objects>)"
            ]
          },
          "metadata": {},
          "execution_count": 35
        },
        {
          "output_type": "display_data",
          "data": {
            "text/plain": [
              "<Figure size 432x288 with 1 Axes>"
            ],
            "image/png": "[encoded data removed]"
          },
          "metadata": {
            "needs_background": "light"
          }
        }
      ],
      "source": [
        "# plot histogram\n",
        "plt.title('UAP test set distribution')\n",
        "plt.hist(outputs)"
      ]
    }
  ],
  "metadata": {
    "accelerator": "GPU",
    "colab": {
      "collapsed_sections": [
        "ufFciOr8IAHs",
        "W7Ok868tI6Ea"
      ],
      "name": "Universal Attack CIFAR10  Final.ipynb",
      "toc_visible": true,
      "provenance": [],
      "include_colab_link": true
    },
    "gpuClass": "standard",
    "kernelspec": {
      "display_name": "Python 3",
      "name": "python3"
    },
    "language_info": {
      "name": "python"
    },
    "widgets": {
      "application/vnd.jupyter.widget-state+json": {
        "4201e72a1e6d4816a7f8c16e908fe145": {
          "model_module": "@jupyter-widgets/controls",
          "model_name": "HBoxModel",
          "model_module_version": "1.5.0",
          "state": {
            "_dom_classes": [],
            "_model_module": "@jupyter-widgets/controls",
            "_model_module_version": "1.5.0",
            "_model_name": "HBoxModel",
            "_view_count": null,
            "_view_module": "@jupyter-widgets/controls",
            "_view_module_version": "1.5.0",
            "_view_name": "HBoxView",
            "box_style": "",
            "children": [
              "IPY_MODEL_46672c5751b1459799d2900014e78d54",
              "IPY_MODEL_ac96d99a10644f76a263ab6346644730",
              "IPY_MODEL_148309826afc4e4ca2704dc42a3a0d2c"
            ],
            "layout": "IPY_MODEL_3d32339774f547c48a008672b216efcd"
          }
        },
        "46672c5751b1459799d2900014e78d54": {
          "model_module": "@jupyter-widgets/controls",
          "model_name": "HTMLModel",
          "model_module_version": "1.5.0",
          "state": {
            "_dom_classes": [],
            "_model_module": "@jupyter-widgets/controls",
            "_model_module_version": "1.5.0",
            "_model_name": "HTMLModel",
            "_view_count": null,
            "_view_module": "@jupyter-widgets/controls",
            "_view_module_version": "1.5.0",
            "_view_name": "HTMLView",
            "description": "",
            "description_tooltip": null,
            "layout": "IPY_MODEL_9fe81ad891594d138997413e6e68bca3",
            "placeholder": "​",
            "style": "IPY_MODEL_9074388e49cd4be2a870eeccd5e07bf6",
            "value": "100%"
          }
        },
        "ac96d99a10644f76a263ab6346644730": {
          "model_module": "@jupyter-widgets/controls",
          "model_name": "FloatProgressModel",
          "model_module_version": "1.5.0",
          "state": {
            "_dom_classes": [],
            "_model_module": "@jupyter-widgets/controls",
            "_model_module_version": "1.5.0",
            "_model_name": "FloatProgressModel",
            "_view_count": null,
            "_view_module": "@jupyter-widgets/controls",
            "_view_module_version": "1.5.0",
            "_view_name": "ProgressView",
            "bar_style": "success",
            "description": "",
            "description_tooltip": null,
            "layout": "IPY_MODEL_9a0790bdb727444d8c4d147309374c97",
            "max": 170498071,
            "min": 0,
            "orientation": "horizontal",
            "style": "IPY_MODEL_13ffd68aa30e4f0aab3cf56c1ff0a743",
            "value": 170498071
          }
        },
        "148309826afc4e4ca2704dc42a3a0d2c": {
          "model_module": "@jupyter-widgets/controls",
          "model_name": "HTMLModel",
          "model_module_version": "1.5.0",
          "state": {
            "_dom_classes": [],
            "_model_module": "@jupyter-widgets/controls",
            "_model_module_version": "1.5.0",
            "_model_name": "HTMLModel",
            "_view_count": null,
            "_view_module": "@jupyter-widgets/controls",
            "_view_module_version": "1.5.0",
            "_view_name": "HTMLView",
            "description": "",
            "description_tooltip": null,
            "layout": "IPY_MODEL_547ae5293f78421ea1340798758be86b",
            "placeholder": "​",
            "style": "IPY_MODEL_5c934c425c674d3fad5c811dbaeab41b",
            "value": " 170498071/170498071 [00:11&lt;00:00, 16875651.00it/s]"
          }
        },
        "3d32339774f547c48a008672b216efcd": {
          "model_module": "@jupyter-widgets/base",
          "model_name": "LayoutModel",
          "model_module_version": "1.2.0",
          "state": {
            "_model_module": "@jupyter-widgets/base",
            "_model_module_version": "1.2.0",
            "_model_name": "LayoutModel",
            "_view_count": null,
            "_view_module": "@jupyter-widgets/base",
            "_view_module_version": "1.2.0",
            "_view_name": "LayoutView",
            "align_content": null,
            "align_items": null,
            "align_self": null,
            "border": null,
            "bottom": null,
            "display": null,
            "flex": null,
            "flex_flow": null,
            "grid_area": null,
            "grid_auto_columns": null,
            "grid_auto_flow": null,
            "grid_auto_rows": null,
            "grid_column": null,
            "grid_gap": null,
            "grid_row": null,
            "grid_template_areas": null,
            "grid_template_columns": null,
            "grid_template_rows": null,
            "height": null,
            "justify_content": null,
            "justify_items": null,
            "left": null,
            "margin": null,
            "max_height": null,
            "max_width": null,
            "min_height": null,
            "min_width": null,
            "object_fit": null,
            "object_position": null,
            "order": null,
            "overflow": null,
            "overflow_x": null,
            "overflow_y": null,
            "padding": null,
            "right": null,
            "top": null,
            "visibility": null,
            "width": null
          }
        },
        "9fe81ad891594d138997413e6e68bca3": {
          "model_module": "@jupyter-widgets/base",
          "model_name": "LayoutModel",
          "model_module_version": "1.2.0",
          "state": {
            "_model_module": "@jupyter-widgets/base",
            "_model_module_version": "1.2.0",
            "_model_name": "LayoutModel",
            "_view_count": null,
            "_view_module": "@jupyter-widgets/base",
            "_view_module_version": "1.2.0",
            "_view_name": "LayoutView",
            "align_content": null,
            "align_items": null,
            "align_self": null,
            "border": null,
            "bottom": null,
            "display": null,
            "flex": null,
            "flex_flow": null,
            "grid_area": null,
            "grid_auto_columns": null,
            "grid_auto_flow": null,
            "grid_auto_rows": null,
            "grid_column": null,
            "grid_gap": null,
            "grid_row": null,
            "grid_template_areas": null,
            "grid_template_columns": null,
            "grid_template_rows": null,
            "height": null,
            "justify_content": null,
            "justify_items": null,
            "left": null,
            "margin": null,
            "max_height": null,
            "max_width": null,
            "min_height": null,
            "min_width": null,
            "object_fit": null,
            "object_position": null,
            "order": null,
            "overflow": null,
            "overflow_x": null,
            "overflow_y": null,
            "padding": null,
            "right": null,
            "top": null,
            "visibility": null,
            "width": null
          }
        },
        "9074388e49cd4be2a870eeccd5e07bf6": {
          "model_module": "@jupyter-widgets/controls",
          "model_name": "DescriptionStyleModel",
          "model_module_version": "1.5.0",
          "state": {
            "_model_module": "@jupyter-widgets/controls",
            "_model_module_version": "1.5.0",
            "_model_name": "DescriptionStyleModel",
            "_view_count": null,
            "_view_module": "@jupyter-widgets/base",
            "_view_module_version": "1.2.0",
            "_view_name": "StyleView",
            "description_width": ""
          }
        },
        "9a0790bdb727444d8c4d147309374c97": {
          "model_module": "@jupyter-widgets/base",
          "model_name": "LayoutModel",
          "model_module_version": "1.2.0",
          "state": {
            "_model_module": "@jupyter-widgets/base",
            "_model_module_version": "1.2.0",
            "_model_name": "LayoutModel",
            "_view_count": null,
            "_view_module": "@jupyter-widgets/base",
            "_view_module_version": "1.2.0",
            "_view_name": "LayoutView",
            "align_content": null,
            "align_items": null,
            "align_self": null,
            "border": null,
            "bottom": null,
            "display": null,
            "flex": null,
            "flex_flow": null,
            "grid_area": null,
            "grid_auto_columns": null,
            "grid_auto_flow": null,
            "grid_auto_rows": null,
            "grid_column": null,
            "grid_gap": null,
            "grid_row": null,
            "grid_template_areas": null,
            "grid_template_columns": null,
            "grid_template_rows": null,
            "height": null,
            "justify_content": null,
            "justify_items": null,
            "left": null,
            "margin": null,
            "max_height": null,
            "max_width": null,
            "min_height": null,
            "min_width": null,
            "object_fit": null,
            "object_position": null,
            "order": null,
            "overflow": null,
            "overflow_x": null,
            "overflow_y": null,
            "padding": null,
            "right": null,
            "top": null,
            "visibility": null,
            "width": null
          }
        },
        "13ffd68aa30e4f0aab3cf56c1ff0a743": {
          "model_module": "@jupyter-widgets/controls",
          "model_name": "ProgressStyleModel",
          "model_module_version": "1.5.0",
          "state": {
            "_model_module": "@jupyter-widgets/controls",
            "_model_module_version": "1.5.0",
            "_model_name": "ProgressStyleModel",
            "_view_count": null,
            "_view_module": "@jupyter-widgets/base",
            "_view_module_version": "1.2.0",
            "_view_name": "StyleView",
            "bar_color": null,
            "description_width": ""
          }
        },
        "547ae5293f78421ea1340798758be86b": {
          "model_module": "@jupyter-widgets/base",
          "model_name": "LayoutModel",
          "model_module_version": "1.2.0",
          "state": {
            "_model_module": "@jupyter-widgets/base",
            "_model_module_version": "1.2.0",
            "_model_name": "LayoutModel",
            "_view_count": null,
            "_view_module": "@jupyter-widgets/base",
            "_view_module_version": "1.2.0",
            "_view_name": "LayoutView",
            "align_content": null,
            "align_items": null,
            "align_self": null,
            "border": null,
            "bottom": null,
            "display": null,
            "flex": null,
            "flex_flow": null,
            "grid_area": null,
            "grid_auto_columns": null,
            "grid_auto_flow": null,
            "grid_auto_rows": null,
            "grid_column": null,
            "grid_gap": null,
            "grid_row": null,
            "grid_template_areas": null,
            "grid_template_columns": null,
            "grid_template_rows": null,
            "height": null,
            "justify_content": null,
            "justify_items": null,
            "left": null,
            "margin": null,
            "max_height": null,
            "max_width": null,
            "min_height": null,
            "min_width": null,
            "object_fit": null,
            "object_position": null,
            "order": null,
            "overflow": null,
            "overflow_x": null,
            "overflow_y": null,
            "padding": null,
            "right": null,
            "top": null,
            "visibility": null,
            "width": null
          }
        },
        "5c934c425c674d3fad5c811dbaeab41b": {
          "model_module": "@jupyter-widgets/controls",
          "model_name": "DescriptionStyleModel",
          "model_module_version": "1.5.0",
          "state": {
            "_model_module": "@jupyter-widgets/controls",
            "_model_module_version": "1.5.0",
            "_model_name": "DescriptionStyleModel",
            "_view_count": null,
            "_view_module": "@jupyter-widgets/base",
            "_view_module_version": "1.2.0",
            "_view_name": "StyleView",
            "description_width": ""
          }
        }
      }
    }
  },
  "nbformat": 4,
  "nbformat_minor": 0
}